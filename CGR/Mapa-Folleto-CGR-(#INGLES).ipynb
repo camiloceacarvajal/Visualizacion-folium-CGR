{
 "cells": [
  {
   "cell_type": "code",
   "execution_count": 1,
   "metadata": {},
   "outputs": [
    {
     "name": "stdout",
     "output_type": "stream",
     "text": [
      "0.6.0\n",
      "0.23.4\n",
      "1.14.3\n",
      "Librerias listas\n"
     ]
    }
   ],
   "source": [
    "import folium\n",
    "from folium.plugins import MarkerCluster\n",
    "from folium.plugins import Draw\n",
    "from folium import plugins\n",
    "from folium.plugins import MeasureControl\n",
    "import pandas as pd\n",
    "import branca\n",
    "import numpy as np\n",
    "import vincent\n",
    "import os\n",
    "import json\n",
    "import matplotlib.pyplot as plt\n",
    "#shows the current version of the library\n",
    "print(folium.__version__)\n",
    "print(pd.__version__)\n",
    "print(np.__version__)\n",
    "print(\"Librerias listas\")\n"
   ]
  },
  {
   "cell_type": "markdown",
   "metadata": {},
   "source": [
    "crs ( str ,predetermined 'EPSG3857' ) - Define coordinate reference system for proyecting geographic points in coordinates pixel (screen) and vice versa. You can use the Leaflet valors: *EPSG3857: the CRS most common for maps in line, used by almost all commercial and free tile suppliers. Use the spherical mercator projection. Set by default to the crs option on the map. *EPSG4326: A common CRS among the GIS enthusiasts. Use simple equirectangular projection. *EPSG3395: Rarely used by some commercial tile suppliers. Uses the mercator elliptical projection. *Simple: a simple CRS that maps longitude and latitude in X and Y directly. Can be used in flat maps (for example, game maps). Keep in mind that the Y axis must still be reversed (going from bottom to top)"
   ]
  },
  {
   "cell_type": "code",
   "execution_count": null,
   "metadata": {},
   "outputs": [],
   "source": [
    "#attr it's information related to the map that is visualized below\n",
    "attr = ('&copy; <a href=\"http://www.openstreetmap.org/copyright\">OpenStreetMap</a> '\n",
    "        'UTEM Cartografia, &copy; <a href=\"https://github.com/camiloceacarvajal?tab=repositories/attributions\">CamiloGithub</a>')\n",
    "#attr2 is an access with my name that direct me to facebook\n",
    "attr2 = ('&copy; <a href=\"https://earth.google.com/web/\">google</a> '\n",
    "        'UTEM Cartografia, &copy; <a href=\"https://github.com/camiloceacarvajal?tab=repositories/attributions\">CamiloGithub</a>')\n",
    "#define where information is extracted from\n",
    "cementerio_data = pd.read_csv(\"Tablacementerio.csv\")\n",
    "#define the name of the map and its initial characteristics such as: scale, zomm, initial coordinates\n",
    "m = folium.Map(cementerio_data[['Latitudes','Longitudes']].mean().tolist(),\n",
    "               attr=None,tiles = None, zoom_start=18,control_scale=True,prefer_canvas=True,detect_retina = True)\n",
    "#open the geojson file with the information and show it on our map\n",
    "with open(os.path.join('data', 'export.geojson')) as f:\n",
    "    bars = json.loads(f.read())\n",
    "plugins.Search(bars, search_zoom=18).add_to(m)\n",
    "#thunderforest base map\n",
    "folium.raster_layers.TileLayer(\n",
    "    tiles='https://tile.thunderforest.com/transport/{z}/{x}/{y}.png?apikey=3cd85f11f4744c0c8c3bdaab8483cde0',\n",
    "    attr= attr,name='Mapa Base OSM',\n",
    "    max_zoom=21,subdomains=['mt0', 'mt1', 'mt2', 'mt3'],\n",
    "    overlay=False,control=True,\n",
    ").add_to(m)\n",
    "#googe base tesela\n",
    "folium.raster_layers.TileLayer(\n",
    "    tiles='http://{s}.google.com/vt/lyrs=s&x={x}&y={y}&z={z}',\n",
    "    attr= attr2,name='Google Earth',\n",
    "    max_zoom=21,subdomains=['mt0', 'mt1', 'mt2', 'mt3'],\n",
    "    overlay=False,control=True,\n",
    ").add_to(m)\n",
    "#maker that directs to the map of recoleta created by the company esri chile\n",
    "ref_html = r'<a href=\"http://munirecoleta.maps.arcgis.com/apps/webappviewer/index.html?id=7361880dbdcd44d1b02ab91c1d07d5eb\" target=\"_blank\"> Mapa Recoleta </a>'\n",
    "pop_html = folium.Popup(folium.Html(ref_html, script=True))\n",
    "folium.Marker([-33.4177, -70.6504],popup = pop_html,icon=folium.Icon(color='red',icon='tree-deciduous')).add_to(m)\n",
    "#maker that to the map of mapillary of the cemetery\n",
    "ref_html = r'<a href=\"https://www.mapillary.com/app/?lat=-33.41700338888893&lng=-70.65034652777774&z=17&pKey=aTS8sJ-LHWhn5A6Ti5u8rw\" target=\"_blank\">Mapa Foto </a>'\n",
    "pop_html = folium.Popup(folium.Html(ref_html, script=True))\n",
    "folium.Marker([-33.4178, -70.6497],popup = pop_html,icon=folium.Icon(color='red',icon='tree-deciduous')).add_to(m)\n",
    "#add tool to the upper right corner\n",
    "m.add_child(MeasureControl())\n",
    "#plugins.ScrollZoomToggler().add_to(m)\n",
    "plugins.Fullscreen(\n",
    "    position='topright',title='Expandir',\n",
    "    title_cancel='salir',force_separate_button=True).add_to(m)\n",
    "#definition and reading of attribute tables\n",
    "cementerio_data = pd.read_csv(\"Tablacementerio.csv\")\n",
    "mc = MarkerCluster(name=\"Patios\")\n",
    "#cycle to generate markers with a visual as excel\n",
    "for N,data in cementerio_data.iterrows():\n",
    "    station_html = folium.Html('<b>%s</b>' %(pd.DataFrame(data).to_html()),script=True)\n",
    "    mc.add_child(folium.Marker([data.Latitudes,data.Longitudes],\n",
    " popup = folium.Popup(station_html),icon=folium.Icon(color='green'if data.Status == 'Bueno'\n",
    "                  else 'red',prefix = 'glyphicon',icon='tree-deciduous')                              \n",
    "                    ))\n",
    "#layer controller \n",
    "m.add_child(mc)\n",
    "m.add_child(folium.LayerControl())\n",
    "#mark latitude longitude of the point or place\n",
    "m.add_child(folium.LatLngPopup())\n",
    "#save file with a name\n",
    "m.save(os.path.join('results', 'Mapacementerio0.91.html'))\n",
    "#define figure\n",
    "fig = plt.figure(figsize=(30,10))\n",
    "plt.subplot2grid((2,3),(0,2))\n",
    "#indicate date and table\n",
    "cementerio_data .Status.value_counts(normalize= True).plot(kind=\"bar\",alpha=0.5)\n",
    "#ttitle of the tables\n",
    "plt.title(\"Estado-arbolesPorcentaje\")\n",
    "plt.subplot2grid((2,3),(0,1))\n",
    "cementerio_data .Status.value_counts().plot(kind='bar',alpha=0.5)\n",
    "plt.title(\"Estado-Arbol-total\")\n",
    "plt.ylabel('Datos')\n",
    "plt.savefig(\"Ejemplo2.jpg\")\n",
    "#visualization of graphics\n",
    "fig = plt.figure(figsize=(30,10))\n",
    "plt.subplot2grid((2,3),(0,2))\n",
    "cementerio_data .Nombre.value_counts(normalize= True).plot(kind=\"bar\",alpha=0.5)\n",
    "plt.title(\"Cantidad de arbol segun especie-porcentaje\")\n",
    "plt.subplot2grid((2,3),(0,1))\n",
    "cementerio_data .Nombre.value_counts().plot(kind='bar',alpha=0.5)\n",
    "plt.title(\"Cantidad de especie en total\")\n",
    "plt.ylabel('Datos')\n",
    "m"
   ]
  }
 ],
 "metadata": {
  "kernelspec": {
   "display_name": "Python 3",
   "language": "python",
   "name": "python3"
  },
  "language_info": {
   "codemirror_mode": {
    "name": "ipython",
    "version": 3
   },
   "file_extension": ".py",
   "mimetype": "text/x-python",
   "name": "python",
   "nbconvert_exporter": "python",
   "pygments_lexer": "ipython3",
   "version": "3.5.5"
  }
 },
 "nbformat": 4,
 "nbformat_minor": 2
}
